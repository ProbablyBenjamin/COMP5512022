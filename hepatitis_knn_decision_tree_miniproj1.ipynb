{
  "nbformat": 4,
  "nbformat_minor": 0,
  "metadata": {
    "colab": {
      "provenance": [],
      "include_colab_link": true
    },
    "kernelspec": {
      "name": "python3",
      "display_name": "Python 3"
    },
    "language_info": {
      "name": "python"
    }
  },
  "cells": [
    {
      "cell_type": "markdown",
      "metadata": {
        "id": "view-in-github",
        "colab_type": "text"
      },
      "source": [
        "<a href=\"https://colab.research.google.com/github/ProbablyBenjamin/COMP5512022/blob/main/hepatitis_knn_decision_tree_miniproj1.ipynb\" target=\"_parent\"><img src=\"https://colab.research.google.com/assets/colab-badge.svg\" alt=\"Open In Colab\"/></a>"
      ]
    },
    {
      "cell_type": "markdown",
      "source": [
        "**Downloading datasets to Google Collab**\n",
        "\n"
      ],
      "metadata": {
        "id": "hAHQsRnHD9Iy"
      }
    },
    {
      "cell_type": "code",
      "source": [
        "!pip3 install wget\n",
        "import wget\n",
        "url1 = \"http://archive.ics.uci.edu/ml/machine-learning-databases/hepatitis/hepatitis.data\"\n",
        "hepatitis = wget.download(url1)\n",
        "url2 = 'https://archive.ics.uci.edu/ml/machine-learning-databases/00329/messidor_features.arff'\n",
        "messidor_features = wget.download(url2)"
      ],
      "metadata": {
        "colab": {
          "base_uri": "https://localhost:8080/"
        },
        "id": "jCAByOIaJFTk",
        "outputId": "72910313-0fd2-4bb5-b3b1-3701581fddcf"
      },
      "execution_count": null,
      "outputs": [
        {
          "output_type": "stream",
          "name": "stdout",
          "text": [
            "Requirement already satisfied: wget in /usr/local/lib/python3.7/dist-packages (3.2)\n"
          ]
        }
      ]
    },
    {
      "cell_type": "markdown",
      "source": [
        "**Import statements and seed**"
      ],
      "metadata": {
        "id": "v6fbh_3qAhiE"
      }
    },
    {
      "cell_type": "code",
      "execution_count": null,
      "metadata": {
        "id": "X_0LjYQHcHp7"
      },
      "outputs": [],
      "source": [
        "import numpy as np\n",
        "from scipy.io import arff\n",
        "import seaborn as sns\n",
        "%matplotlib inline \n",
        "import matplotlib.pyplot as plt\n",
        "#set random seed\n",
        "np.random.seed(420)"
      ]
    },
    {
      "cell_type": "markdown",
      "source": [
        "**Cleaning Hepatitis Dataset**\n",
        "Removed Protime column and data points with missing attributes"
      ],
      "metadata": {
        "id": "-w8RS15-Emfy"
      }
    },
    {
      "cell_type": "code",
      "source": [
        "import pandas as pd\n",
        "# converting hepatitis dataset to a pandas dataframe\n",
        "# removed the NA from \n",
        "hepatitisDataset =  pd.read_csv('hepatitis.data', sep=\",\", header = None)\n",
        "\n",
        "hepatitisDataset.columns =  [\"life\", \"AGE\", \"SEX\", \"STEROID\", \"ANTIVIRALS\", \"FATIGUE\", \"MALAISE\", \"ANOREXIA\", \"BIG\", \"FIRM\", \"SPLEEN_PALPABLE\", \"SPIDERS\", \n",
        "          \"ASCITES\" , \"VARICES\", \"BILIRUBIN\", \"ALK_PHOSPHATE\", \"SGOT\", \"ALBUMIN\", \"PROTIME\", \"HISTOLOGY\" ]\n",
        "\n",
        "\n",
        "hepatitisDataset = hepatitisDataset.drop(\"PROTIME\", 1)\n",
        "hepatitisDataset = hepatitisDataset[hepatitisDataset.life != \"?\"]\n",
        "hepatitisDataset = hepatitisDataset[hepatitisDataset.AGE != \"?\"]\n",
        "hepatitisDataset = hepatitisDataset[hepatitisDataset.SEX != \"?\"]\n",
        "hepatitisDataset = hepatitisDataset[hepatitisDataset.STEROID != \"?\"]\n",
        "hepatitisDataset = hepatitisDataset[hepatitisDataset.ANTIVIRALS != \"?\"]\n",
        "hepatitisDataset = hepatitisDataset[hepatitisDataset.FATIGUE != \"?\"]\n",
        "hepatitisDataset = hepatitisDataset[hepatitisDataset.MALAISE != \"?\"]\n",
        "hepatitisDataset = hepatitisDataset[hepatitisDataset.ANOREXIA != \"?\"]\n",
        "hepatitisDataset = hepatitisDataset[hepatitisDataset.BIG != \"?\"]\n",
        "hepatitisDataset = hepatitisDataset[hepatitisDataset.FIRM != \"?\"]\n",
        "hepatitisDataset = hepatitisDataset[hepatitisDataset.SPLEEN_PALPABLE != \"?\"]\n",
        "hepatitisDataset = hepatitisDataset[hepatitisDataset.SPIDERS != '?']\n",
        "hepatitisDataset = hepatitisDataset[hepatitisDataset.ASCITES != '?']\n",
        "hepatitisDataset = hepatitisDataset[hepatitisDataset.VARICES != '?']\n",
        "hepatitisDataset = hepatitisDataset[hepatitisDataset.BILIRUBIN != '?']\n",
        "hepatitisDataset = hepatitisDataset[hepatitisDataset.ALK_PHOSPHATE != '?']\n",
        "hepatitisDataset = hepatitisDataset[hepatitisDataset.SGOT != '?']\n",
        "hepatitisDataset = hepatitisDataset[hepatitisDataset.ALBUMIN != '?']\n",
        "#hepatitisDataset = hepatitisDataset[hepatitisDataset.PROTIME != '?']\n",
        "hepatitisDataset = hepatitisDataset[hepatitisDataset.HISTOLOGY != '?']\n",
        "hepatitisDataset = hepatitisDataset[hepatitisDataset.BILIRUBIN != '?']\n",
        "hepatitisDataset = hepatitisDataset.astype(float)\n",
        "sns.heatmap(hepatitisDataset.corr())\n",
        "#hepatitisDataset = hepatitisDataset.drop(\"HISTOLOGY\", 1)\n",
        "#hepatitisDataset = hepatitisDataset.drop(\"BILIRUBIN\", 1)\n",
        "\n",
        "\n",
        "#normalizing hepatitis dataset\n",
        "hepatitisDataset=(hepatitisDataset-hepatitisDataset.min())/(hepatitisDataset.max()-hepatitisDataset.min())"
      ],
      "metadata": {
        "id": "afM2cXa4CiK_",
        "colab": {
          "base_uri": "https://localhost:8080/",
          "height": 406
        },
        "outputId": "ad3ed729-f6db-48f9-878a-989aee8b26e4"
      },
      "execution_count": null,
      "outputs": [
        {
          "output_type": "stream",
          "name": "stderr",
          "text": [
            "/usr/local/lib/python3.7/dist-packages/ipykernel_launcher.py:10: FutureWarning: In a future version of pandas all arguments of DataFrame.drop except for the argument 'labels' will be keyword-only\n",
            "  # Remove the CWD from sys.path while we load stuff.\n"
          ]
        },
        {
          "output_type": "display_data",
          "data": {
            "image/png": "[encoded data removed]",
            "text/plain": [
              "<Figure size 432x288 with 2 Axes>"
            ]
          },
          "metadata": {
            "needs_background": "light"
          }
        }
      ]
    },
    {
      "cell_type": "code",
      "source": [
        "target1 = hepatitisDataset['life']\n",
        "hepatitisDataset = hepatitisDataset.drop('life', 1)\n",
        "hepatitisDataset = hepatitisDataset.to_numpy()\n",
        "target1 = target1.to_numpy()\n",
        "classes= ( 'Alive','Dead')\n",
        "alive = np.count_nonzero(target1 == 1)\n",
        "dead = np.count_nonzero(target1 == 0)\n",
        "array = [alive, dead]\n",
        "plt.bar(np.arange(len(classes)), array)\n",
        "plt.xticks([0,1], classes)\n",
        "plt.show()\n",
        "print(hepatitisDataset[0])\n",
        "\n",
        "print(f\"{alive} alive, {dead} dead.\")"
      ],
      "metadata": {
        "colab": {
          "base_uri": "https://localhost:8080/",
          "height": 392
        },
        "id": "xw4uJGWpOKUh",
        "outputId": "12489eb0-2164-4548-e861-daa5e280a3e7"
      },
      "execution_count": null,
      "outputs": [
        {
          "output_type": "stream",
          "name": "stderr",
          "text": [
            "/usr/local/lib/python3.7/dist-packages/ipykernel_launcher.py:2: FutureWarning: In a future version of pandas all arguments of DataFrame.drop except for the argument 'labels' will be keyword-only\n",
            "  \n"
          ]
        },
        {
          "output_type": "display_data",
          "data": {
            "image/png": "[encoded data removed]",
            "text/plain": [
              "<Figure size 432x288 with 1 Axes>"
            ]
          },
          "metadata": {
            "needs_background": "light"
          }
        },
        {
          "output_type": "stream",
          "name": "stdout",
          "text": [
            "[0.32394366 1.         0.         1.         1.         1.\n",
            " 1.         0.         1.         1.         1.         1.\n",
            " 1.         0.15555556 0.21933086 0.00985222 0.59375    0.        ]\n",
            "93 alive, 19 dead.\n"
          ]
        }
      ]
    },
    {
      "cell_type": "markdown",
      "source": [
        "**Implementing KNN on Hepatitis Dataset**"
      ],
      "metadata": {
        "id": "SlZyrIjVGHHy"
      }
    },
    {
      "cell_type": "code",
      "source": [
        "x, y = hepatitisDataset[:,:], target1.astype(int)                                 #slices the first two columns or features from the data\n",
        "(N,D), C = x.shape, np.max(y)+1                                                  #np.max(y)+1 because y has 0,1,2 as values but we need to show that there are 3 classes so,\n",
        "                                                                                    #np.max(y) = 2 and np.max(y)+1 = 3\n",
        "\n",
        "print(f'instances (N) \\t {N} \\n features (D) \\t {D} \\n classes (C) \\t {C}')\n",
        "\n",
        "np.random.seed(1234)\n",
        "inds = np.random.permutation(N)                                                     #generates an indices array from 0 to N-1 and permutes it \n",
        "\n",
        "#split the dataset into train and test \n",
        "# x_train, y_train = x[:100], y[:100]                                              #order needs to be shuffled else we would Always get only two classes.\n",
        "# x_test, y_test = x[100:], y[100:]\n",
        "# print(y_test)\n",
        "\n",
        "#split the dataset into train and test\n",
        "bound = (int) (N*0.8) #80/20 split\n",
        "x_train, y_train = x[inds[:bound]], y[inds[:bound]]\n",
        "x_test, y_test = x[inds[bound:]], y[inds[bound:]]\n",
        "\n",
        "\n"
      ],
      "metadata": {
        "colab": {
          "base_uri": "https://localhost:8080/"
        },
        "id": "HGKIrDfCGF_D",
        "outputId": "90a7a63d-cd46-41d4-bdd6-fdc7044150c1"
      },
      "execution_count": null,
      "outputs": [
        {
          "output_type": "stream",
          "name": "stdout",
          "text": [
            "instances (N) \t 112 \n",
            " features (D) \t 18 \n",
            " classes (C) \t 2\n"
          ]
        }
      ]
    },
    {
      "cell_type": "markdown",
      "source": [
        "KNN CLASS GIVEN TO US"
      ],
      "metadata": {
        "id": "zqXpOvWeHuXX"
      }
    },
    {
      "cell_type": "code",
      "source": [
        "#define the metric we will use to measure similarity\n",
        "#if the input shapes are [1,N1,F] and [N2,1,F] then output shape is [N2,N1]\n",
        "#as numpy supports broadcasting with arithmetic operations\n",
        "#for more on numpy broadcasting refer to: https://numpy.org/doc/stable/user/basics.broadcasting.html   \n",
        "euclidean = lambda x1, x2: np.sqrt(np.sum((x1 - x2)**2,axis = -1))\n",
        "manhattan = lambda x1, x2: np.sum(np.abs(x1 - x2), axis=-1)\n",
        "\n",
        "class KNN:\n",
        "\n",
        "    def __init__(self, K=1, dist_fn= euclidean):\n",
        "        self.dist_fn = dist_fn                                                    #we need to use self because the parameters would be stored in variables \n",
        "                                                                                  #on the stack and would be discarded when the init method goes out of scope\n",
        "        self.K = K\n",
        "        return\n",
        "    \n",
        "    def fit(self, x, y):\n",
        "        ''' Store the training data using this method as it is a lazy learner'''\n",
        "        self.x = x\n",
        "        self.y = y\n",
        "        self.C = np.max(y) + 1\n",
        "        return self\n",
        "    \n",
        "    def predict(self, x_test):\n",
        "        ''' Makes a prediction using the stored training data and the test data given as argument'''\n",
        "        \n",
        "        num_test = x_test.shape[0]\n",
        "        #calculate distance between the training & test samples and returns an array of shape [num_test, num_train]\n",
        "                \n",
        "        distances = self.dist_fn(self.x[None,:,:], x_test[:,None,:])\n",
        "        # print(\"The shape of the distances is\", distances.shape)                          \n",
        "        #When operating on two arrays, NumPy compares their shapes element-wise. \n",
        "        #It starts with the trailing dimensions, and works its way forward. Two dimensions are compatible when: they are equal, or one of them is 1\n",
        "\n",
        "        #ith-row of knns stores the indices of k closest training samples to the ith-test sample \n",
        "        knns = np.zeros((num_test, self.K), dtype=int)\n",
        "        \n",
        "        #ith-row of y_prob has the probability distribution over C classes\n",
        "        y_prob = np.zeros((num_test, self.C))\n",
        "        for i in range(num_test):\n",
        "            knns[i,:] = np.argsort(distances[i])[:self.K]\n",
        "            \n",
        "            y_prob[i,:] = np.bincount(self.y[knns[i,:]], minlength=self.C) #counts the number of instances of each class in the K-closest training samples\n",
        "        #y_prob /= np.sum(y_prob, axis=-1, keepdims=True)\n",
        "        #simply divide by K to get a probability distribution\n",
        "        y_prob /= self.K                                                          #nd you just divided by K so that we scale the value from zero to 1.\n",
        "        return y_prob, knns"
      ],
      "metadata": {
        "id": "8VIYzJRGHwv5"
      },
      "execution_count": null,
      "outputs": []
    },
    {
      "cell_type": "code",
      "source": [
        "from imblearn.over_sampling import SMOTE\n",
        "from collections import Counter\n",
        "\n",
        "#oversample = SMOTE()\n",
        "#x_train, y_train = oversample.fit_resample(x_train, y_train)\n",
        "#class_balance = pd.Series(y_train).value_counts().plot.bar()\n",
        "#class_balance.set_title(\"Outcome ytrain (SMOTE)\")\n",
        "#plt.gca().set_xticklabels(['Death','Alive']);\n",
        "#class_balance.figure.savefig('class_balance.png')"
      ],
      "metadata": {
        "id": "P_ZCv3KmNonx"
      },
      "execution_count": null,
      "outputs": []
    },
    {
      "cell_type": "code",
      "source": [
        "model = KNN(K=22, dist_fn= euclidean)\n",
        "\n",
        "y_prob, knns = model.fit(x_train, y_train).predict(x_test)\n",
        "print('knns shape:', knns.shape)\n",
        "print('y_prob shape:', y_prob.shape)\n",
        "\n",
        "#To get hard predictions by choosing the class with the maximum probability\n",
        "\n",
        "\n",
        "y_pred = np.argmax(y_prob,axis=-1)                                                #This returns the indeces of the largest element in the array\n",
        "accuracy = np.sum(y_pred == y_test)/y_test.shape[0]\n",
        "\n",
        "print(f'accuracy is {accuracy*100:.1f}.')\n",
        "\n",
        "#boolean array to later slice the indexes of correct and incorrect predictions\n",
        "correct = y_test == y_pred\n",
        "incorrect = np.logical_not(correct)\n",
        "\n"
      ],
      "metadata": {
        "colab": {
          "base_uri": "https://localhost:8080/"
        },
        "id": "TWe7oBAwhD7W",
        "outputId": "c790dcfc-9d63-46b8-b288-de41d8e9b3fd"
      },
      "execution_count": null,
      "outputs": [
        {
          "output_type": "stream",
          "name": "stdout",
          "text": [
            "knns shape: (23, 22)\n",
            "y_prob shape: (23, 2)\n",
            "accuracy is 73.9.\n"
          ]
        }
      ]
    },
    {
      "cell_type": "markdown",
      "source": [
        "KNN Experiments:"
      ],
      "metadata": {
        "id": "vpuyyOUc4nb1"
      }
    },
    {
      "cell_type": "code",
      "source": [
        "from sklearn.model_selection import cross_val_score #We can't use SKlearn i thought\n",
        "from sklearn.neighbors import KNeighborsClassifier\n",
        "lrange=list(range(1,20))\n",
        "scores1 = []\n",
        "scores2 = []\n",
        "scores3 = []\n",
        "euclidean = lambda x1, x2: np.sqrt(np.sum((x1 - x2)**2,axis = -1))\n",
        "manhattan = lambda x1, x2: np.sum(np.abs(x1 - x2), axis=-1)\n",
        "for k in lrange:\n",
        "  model1 = KNN(K=k, dist_fn= euclidean)\n",
        "  model2 = KNN(K=k, dist_fn= manhattan)\n",
        "  y_prob1, knns1 = model1.fit(x_train, y_train).predict(x_test)\n",
        "  y_pred1 = np.argmax(y_prob1,axis=-1)                                                #This returns the indeces of the largest element in the array\n",
        "  accuracy1 = np.sum(y_pred1 == y_test)/y_test.shape[0]\n",
        "  y_prob2, knns2 = model2.fit(x_train, y_train).predict(x_test)\n",
        "  y_pred2 = np.argmax(y_prob2,axis=-1)                                                #This returns the indeces of the largest element in the array\n",
        "  accuracy2 = np.sum(y_pred2 == y_test)/y_test.shape[0]\n",
        "  scores1.append(accuracy1)\n",
        "  scores2.append(accuracy2)\n",
        "\n",
        "optimal_k1 = lrange[scores1.index(max(scores1))]\n",
        "optimal_k2 = lrange[scores2.index(max(scores2))]\n",
        "print(\"The optimal number of neighbors euc is %d\" % optimal_k1)\n",
        "print(\"The optimal number of neighbors man is %d\" % optimal_k2)\n",
        "print(scores1)\n",
        "print(scores2)\n",
        "#print(\"The optimal score is %.2f\" % max(scores))\n"
      ],
      "metadata": {
        "id": "duI0IohI4l7w",
        "colab": {
          "base_uri": "https://localhost:8080/"
        },
        "outputId": "760f37ef-d624-4a39-9d54-44a1543db993"
      },
      "execution_count": null,
      "outputs": [
        {
          "output_type": "stream",
          "name": "stdout",
          "text": [
            "The optimal number of neighbors euc is 3\n",
            "The optimal number of neighbors man is 6\n",
            "[0.782608695652174, 0.782608695652174, 0.8260869565217391, 0.8260869565217391, 0.782608695652174, 0.8260869565217391, 0.8260869565217391, 0.8260869565217391, 0.7391304347826086, 0.782608695652174, 0.782608695652174, 0.782608695652174, 0.7391304347826086, 0.782608695652174, 0.7391304347826086, 0.7391304347826086, 0.7391304347826086, 0.7391304347826086, 0.7391304347826086]\n",
            "[0.782608695652174, 0.782608695652174, 0.8260869565217391, 0.8260869565217391, 0.8260869565217391, 0.8695652173913043, 0.8695652173913043, 0.8695652173913043, 0.7391304347826086, 0.8260869565217391, 0.782608695652174, 0.782608695652174, 0.7391304347826086, 0.7391304347826086, 0.7391304347826086, 0.7391304347826086, 0.7391304347826086, 0.7391304347826086, 0.7391304347826086]\n"
          ]
        }
      ]
    },
    {
      "cell_type": "markdown",
      "source": [
        "Data structure for Decision tree\n"
      ],
      "metadata": {
        "id": "NvOphymjOATB"
      }
    },
    {
      "cell_type": "code",
      "source": [
        "class Node:\n",
        "    def __init__(self, data_indices, parent):\n",
        "        self.data_indices = data_indices                    #stores the data indices which are in the region defined by this node\n",
        "        self.left = None                                    #stores the left child of the node \n",
        "        self.right = None                                   #stores the right child of the node\n",
        "        self.split_feature = None                           #the feature for split at this node\n",
        "        self.split_value = None                             #the value of the feature for split at this node\n",
        "        if parent:\n",
        "            self.depth = parent.depth + 1                   #obtain the dept of the node by adding one to dept of the parent \n",
        "            self.num_classes = parent.num_classes           #copies the num classes from the parent \n",
        "            self.data = parent.data                         #copies the data from the parent\n",
        "            self.labels = parent.labels                     #copies the labels from the parent\n",
        "            class_prob = np.bincount(self.labels[data_indices], minlength=self.num_classes) #this is counting frequency of different labels in the region defined by this node\n",
        "            self.class_prob = class_prob / np.sum(class_prob)  #stores the class probability for the node\n",
        "            #note that we'll use the class probabilites of the leaf nodes for making predictions after the tree is built"
      ],
      "metadata": {
        "id": "jxkOmx7DN8u5"
      },
      "execution_count": null,
      "outputs": []
    },
    {
      "cell_type": "markdown",
      "source": [
        "Greedy Splitting\n"
      ],
      "metadata": {
        "id": "yUSXF6hWjDpV"
      }
    },
    {
      "cell_type": "code",
      "source": [
        "def greedy_test(node, cost_fn):\n",
        "    #initialize the best parameter values\n",
        "    best_cost = np.inf\n",
        "    best_feature, best_value = None, None\n",
        "    num_instances, num_features = node.data.shape\n",
        "    #sort the features to get the test value candidates by taking the average of consecutive sorted feature values \n",
        "    data_sorted = np.sort(node.data[node.data_indices],axis=0)\n",
        "    test_candidates = (data_sorted[1:] + data_sorted[:-1]) / 2.\n",
        "    for f in range(num_features):\n",
        "        #stores the data corresponding to the f-th feature\n",
        "        data_f = node.data[node.data_indices, f]\n",
        "        for test in test_candidates[:,f]:\n",
        "            #Split the indices using the test value of f-th feature\n",
        "            left_indices = node.data_indices[data_f <= test]\n",
        "            right_indices = node.data_indices[data_f > test]\n",
        "            #we can't have a split where a child has zero element\n",
        "            #if this is true over all the test features and their test values  then the function returns the best cost as infinity\n",
        "            if len(left_indices) == 0 or len(right_indices) == 0:                \n",
        "                continue\n",
        "            #compute the left and right cost based on the current split                                                         \n",
        "            left_cost = cost_fn(node.labels[left_indices])\n",
        "            right_cost = cost_fn(node.labels[right_indices])\n",
        "            num_left, num_right = left_indices.shape[0], right_indices.shape[0]\n",
        "            #get the combined cost using the weighted sum of left and right cost\n",
        "            cost = (num_left * left_cost + num_right * right_cost)/num_instances\n",
        "            #update only when a lower cost is encountered\n",
        "            if cost < best_cost:\n",
        "                best_cost = cost\n",
        "                best_feature = f\n",
        "                best_value = test\n",
        "    return best_cost, best_feature, best_value"
      ],
      "metadata": {
        "id": "Iw4j8UOHjGdw"
      },
      "execution_count": null,
      "outputs": []
    },
    {
      "cell_type": "markdown",
      "source": [
        "Cost Functions"
      ],
      "metadata": {
        "id": "lhw52WUNjHkZ"
      }
    },
    {
      "cell_type": "code",
      "source": [
        "#computes misclassification cost by subtracting the maximum probability of any class\n",
        "def cost_misclassification(labels):\n",
        "    counts = np.bincount(labels) \n",
        "    class_probs = counts / np.sum(counts)\n",
        "    #you could compress both the steps above by doing class_probs = np.bincount(labels) / len(labels)\n",
        "    return 1 - np.max(class_probs)\n",
        "\n",
        "#computes entropy of the labels by computing the class probabilities\n",
        "def cost_entropy(labels):\n",
        "    class_probs = np.bincount(labels) / len(labels)\n",
        "    class_probs = class_probs[class_probs > 0]              #this steps is remove 0 probabilities for removing numerical issues while computing log\n",
        "    return -np.sum(class_probs * np.log(class_probs))       #expression for entropy -\\sigma p(x)log[p(x)]\n",
        "\n",
        "#computes the gini index cost\n",
        "def cost_gini_index(labels):\n",
        "    class_probs = np.bincount(labels) / len(labels)\n",
        "    return 1 - np.sum(np.square(class_probs))               #expression for gini index 1-\\sigma p(x)^2"
      ],
      "metadata": {
        "id": "0Ez2aS8EjSWt"
      },
      "execution_count": null,
      "outputs": []
    },
    {
      "cell_type": "markdown",
      "source": [
        "Decision Tree Class"
      ],
      "metadata": {
        "id": "avVo1VJjjSEt"
      }
    },
    {
      "cell_type": "code",
      "source": [
        "class DecisionTree:\n",
        "    def __init__(self, num_classes=None, max_depth=3, cost_fn=cost_misclassification, min_leaf_instances=1):\n",
        "        self.max_depth = max_depth      #maximum dept for termination \n",
        "        self.root = None                #stores the root of the decision tree \n",
        "        self.cost_fn = cost_fn          #stores the cost function of the decision tree \n",
        "        self.num_classes = num_classes  #stores the total number of classes\n",
        "        self.min_leaf_instances = min_leaf_instances  #minimum number of instances in a leaf for termination\n",
        "        \n",
        "    def fit2(self, data, labels):\n",
        "        pass                            #pass in python 3 means nothing happens and the method here is empty\n",
        "    \n",
        "    def predict2(self, data_test):\n",
        "        pass"
      ],
      "metadata": {
        "id": "v0-cnIFFjjnv"
      },
      "execution_count": null,
      "outputs": []
    },
    {
      "cell_type": "markdown",
      "source": [
        "Fit Function"
      ],
      "metadata": {
        "id": "Ra6R8ylDjmjL"
      }
    },
    {
      "cell_type": "code",
      "source": [
        "def fit2(self, data, labels):\n",
        "    self.data = data\n",
        "    self.labels = labels\n",
        "    if self.num_classes is None:\n",
        "        self.num_classes = np.max(labels) + 1\n",
        "    #below are initialization of the root of the decision tree\n",
        "    self.root = Node(np.arange(data.shape[0]), None)\n",
        "    self.root.data = data\n",
        "    self.root.labels = labels\n",
        "    self.root.num_classes = self.num_classes\n",
        "    self.root.depth = 0\n",
        "    #to recursively build the rest of the tree\n",
        "    self._fit2_tree(self.root)\n",
        "    return self\n",
        "\n",
        "def _fit2_tree(self, node):\n",
        "    #This gives the condition for termination of the recursion resulting in a leaf node\n",
        "    if node.depth == self.max_depth or len(node.data_indices) <= self.min_leaf_instances:\n",
        "        return\n",
        "    #greedily select the best test by minimizing the cost\n",
        "    cost, split_feature, split_value = greedy_test(node, self.cost_fn)\n",
        "    \n",
        "    #if the cost returned is infinity it means that it is not possible to split the node and hence terminate\n",
        "    if np.isinf(cost):\n",
        "        return\n",
        "    #print(f'best feature: {split_feature}, value {split_value}, cost {cost}')\n",
        "    #to get a boolean array suggesting which data indices corresponding to this node are in the left of the split\n",
        "    test = node.data[node.data_indices,split_feature] <= split_value\n",
        "    #store the split feature and value of the node\n",
        "    node.split_feature = split_feature\n",
        "    node.split_value = split_value\n",
        "    #define new nodes which are going to be the left and right child of the present node\n",
        "    left = Node(node.data_indices[test], node)\n",
        "    right = Node(node.data_indices[np.logical_not(test)], node)\n",
        "    #recursive call to the _fit2_tree()\n",
        "    self._fit2_tree(left)\n",
        "    self._fit2_tree(right)\n",
        "    #assign the left and right child to present child\n",
        "    node.left = left\n",
        "    node.right = right\n",
        "\n",
        "DecisionTree.fit2 = fit2\n",
        "DecisionTree._fit2_tree = _fit2_tree"
      ],
      "metadata": {
        "id": "RmDJcn-ljmJo"
      },
      "execution_count": null,
      "outputs": []
    },
    {
      "cell_type": "markdown",
      "source": [
        "New Predictions"
      ],
      "metadata": {
        "id": "t1U25j0gj-h8"
      }
    },
    {
      "cell_type": "code",
      "source": [
        "def predict2(self, data_test):\n",
        "    class_probs = np.zeros((data_test.shape[0], self.num_classes))\n",
        "    for n, x in enumerate(data_test):\n",
        "        node = self.root\n",
        "        #loop along the dept of the tree looking region where the present data sample fall in based on the split feature and value\n",
        "        while node.left:\n",
        "            if x[node.split_feature] <= node.split_value:\n",
        "                node = node.left\n",
        "            else:\n",
        "                node = node.right\n",
        "        #the loop terminates when you reach a leaf of the tree and the class probability of that node is taken for prediction\n",
        "        class_probs[n,:] = node.class_prob\n",
        "    return class_probs\n",
        "\n",
        "DecisionTree.predict2 = predict2"
      ],
      "metadata": {
        "id": "DtDtN4hDkAv3"
      },
      "execution_count": null,
      "outputs": []
    },
    {
      "cell_type": "markdown",
      "source": [
        "Experiments"
      ],
      "metadata": {
        "id": "2GeYOlZKkaY1"
      }
    },
    {
      "cell_type": "code",
      "source": [
        "tree = DecisionTree(max_depth=1, cost_fn=cost_misclassification)\n",
        "\n",
        "x, y = hepatitisDataset[:,:], target1.astype(int)\n",
        "\n",
        "print(x,y)\n",
        "(num_instances, num_features), num_classes = x.shape, np.max(y)+1\n",
        "np.random.seed(1234)\n",
        "inds = np.random.permutation(num_instances)\n",
        "\n",
        "#fitting to tree\n",
        "probs_test = tree.fit2(x_train, y_train).predict2(x_test)\n",
        "y_pred = np.argmax(probs_test,1)\n",
        "accuracy = np.sum(y_pred == y_test)/y_test.shape[0]\n",
        "\n",
        "print(f'accuracy is {accuracy*100:.1f}.')\n",
        "\n",
        "\n",
        "\n",
        "\n"
      ],
      "metadata": {
        "id": "CX-lAuU8kaQW",
        "colab": {
          "base_uri": "https://localhost:8080/"
        },
        "outputId": "3113d292-9895-4d84-fce0-5fc92e61ce73"
      },
      "execution_count": null,
      "outputs": [
        {
          "output_type": "stream",
          "name": "stdout",
          "text": [
            "[[0.32394366 1.         0.         ... 0.00985222 0.59375    0.        ]\n",
            " [0.6056338  0.         0.         ... 0.06896552 0.4375     0.        ]\n",
            " [1.         0.         1.         ... 0.04433498 0.59375    0.        ]\n",
            " ...\n",
            " [0.76056338 0.         0.         ... 0.01477833 0.625      1.        ]\n",
            " [0.64788732 1.         0.         ... 0.01231527 0.625      1.        ]\n",
            " [0.50704225 0.         1.         ... 0.01231527 0.3125     1.        ]] [1 1 1 1 1 1 1 1 1 1 1 1 1 1 1 1 1 1 1 1 1 1 1 0 1 1 1 0 1 1 1 1 1 1 1 1 1\n",
            " 1 1 1 1 1 1 1 1 1 1 1 1 1 1 1 1 1 1 1 1 1 0 1 1 1 1 1 1 1 0 0 1 1 0 1 1 1\n",
            " 0 0 1 1 0 1 0 1 0 1 1 1 1 1 0 1 1 1 0 1 0 1 1 1 0 1 1 0 1 1 0 1 0 1 1 1 1\n",
            " 0]\n",
            "accuracy is 69.6.\n"
          ]
        }
      ]
    },
    {
      "cell_type": "code",
      "source": [
        "cost_fns = [cost_misclassification, cost_entropy, cost_gini_index]\n",
        "for j in range(3):\n",
        "  lrange=list(range(1,20))\n",
        "  scores = []\n",
        "  for k in lrange:\n",
        "    \n",
        "    tree = DecisionTree(max_depth=k, cost_fn=cost_fns[j])\n",
        "    (num_instances, num_features), num_classes = x.shape, np.max(y)+1\n",
        "    probs_test = tree.fit2(x_train, y_train).predict2(x_test)\n",
        "    y_pred = np.argmax(probs_test,1)\n",
        "    accuracy = np.sum(y_pred == y_test)/y_test.shape[0]\n",
        "    scores.append(accuracy)\n",
        "\n",
        "  optimal_k = lrange[scores.index(max(scores))]\n",
        "  plt.plot(lrange, scores)\n",
        "  plt.show()\n",
        "  print(\"The optimal tree depth is %d\" % optimal_k)"
      ],
      "metadata": {
        "id": "OcBnLaRrX4EU",
        "colab": {
          "base_uri": "https://localhost:8080/",
          "height": 815
        },
        "outputId": "02a6f1e8-30dd-43c8-c5e2-87436b83d4e2"
      },
      "execution_count": null,
      "outputs": [
        {
          "output_type": "display_data",
          "data": {
            "image/png": "[encoded data removed]",
            "text/plain": [
              "<Figure size 432x288 with 1 Axes>"
            ]
          },
          "metadata": {
            "needs_background": "light"
          }
        },
        {
          "output_type": "stream",
          "name": "stdout",
          "text": [
            "The optimal tree depth is 1\n"
          ]
        },
        {
          "output_type": "display_data",
          "data": {
            "image/png": "[encoded data removed]",
            "text/plain": [
              "<Figure size 432x288 with 1 Axes>"
            ]
          },
          "metadata": {
            "needs_background": "light"
          }
        },
        {
          "output_type": "stream",
          "name": "stdout",
          "text": [
            "The optimal tree depth is 5\n"
          ]
        },
        {
          "output_type": "display_data",
          "data": {
            "image/png": "[encoded data removed]",
            "text/plain": [
              "<Figure size 432x288 with 1 Axes>"
            ]
          },
          "metadata": {
            "needs_background": "light"
          }
        },
        {
          "output_type": "stream",
          "name": "stdout",
          "text": [
            "The optimal tree depth is 5\n"
          ]
        }
      ]
    },
    {
      "cell_type": "markdown",
      "source": [
        "**Implementing Decision Tree Algorithm**\n",
        "\n",
        "Things we can play around with:\n",
        "\n",
        "Worth-splitting subroutine\n",
        "- minimum leaf size, max tree depth "
      ],
      "metadata": {
        "id": "VQeXoJNqVoSU"
      }
    }
  ]
}